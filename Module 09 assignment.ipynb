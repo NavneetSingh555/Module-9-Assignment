{
 "cells": [
  {
   "cell_type": "markdown",
   "id": "bb0bb5c1-2767-4d22-ae51-303c7410e3fe",
   "metadata": {},
   "source": [
    "Q1. Explain with an example each when to use a for loop and a while loop."
   ]
  },
  {
   "cell_type": "markdown",
   "id": "b6c7be1c-ef14-4fc9-9729-19b5654ddfba",
   "metadata": {},
   "source": [
    "Ans. use of for loop when we know the no. of iterations perform by loop i.e easily count no. of iterations"
   ]
  },
  {
   "cell_type": "markdown",
   "id": "72a663a7-f3fb-4ea1-b8f7-681dba1e1390",
   "metadata": {},
   "source": [
    "use of while loop when we do not count the no. of iteration will perform by the loop then we use while loop it will execute until the condition become false"
   ]
  },
  {
   "cell_type": "code",
   "execution_count": 1,
   "id": "aa4599a4-c67c-45d4-a9b2-f324d215b837",
   "metadata": {},
   "outputs": [
    {
     "name": "stdout",
     "output_type": "stream",
     "text": [
      "1\n",
      "2\n",
      "3\n",
      "4\n",
      "5\n",
      "6\n",
      "7\n",
      "8\n",
      "9\n"
     ]
    }
   ],
   "source": [
    "for i in range(1,10):\n",
    "    print(i)"
   ]
  },
  {
   "cell_type": "code",
   "execution_count": 3,
   "id": "40827d1b-24c7-49ae-844f-9f72674a3047",
   "metadata": {},
   "outputs": [
    {
     "name": "stdout",
     "output_type": "stream",
     "text": [
      "0\n",
      "6\n",
      "12\n",
      "18\n",
      "24\n",
      "30\n",
      "36\n",
      "42\n",
      "48\n",
      "54\n",
      "60\n",
      "66\n",
      "72\n",
      "78\n",
      "84\n",
      "90\n",
      "96\n"
     ]
    }
   ],
   "source": [
    "i=0\n",
    "while i<=100:\n",
    "    print(i)\n",
    "    i+=6"
   ]
  },
  {
   "cell_type": "markdown",
   "id": "31387f52-4389-4f9b-8222-8ce6b32069c1",
   "metadata": {},
   "source": [
    "Q2. Write a python program to print the sum and product of the first 10 natural numbers using for\n",
    "and while loop."
   ]
  },
  {
   "cell_type": "markdown",
   "id": "5118bfdf-d0c1-4d36-91b5-dac6c179f358",
   "metadata": {},
   "source": [
    "using while loop"
   ]
  },
  {
   "cell_type": "markdown",
   "id": "961d6f46-176c-454c-bedf-87a33a66b75a",
   "metadata": {},
   "source": [
    "sum"
   ]
  },
  {
   "cell_type": "code",
   "execution_count": 1,
   "id": "b14bdcc9-3449-40a9-a877-42b613a85240",
   "metadata": {},
   "outputs": [
    {
     "data": {
      "text/plain": [
       "55"
      ]
     },
     "execution_count": 1,
     "metadata": {},
     "output_type": "execute_result"
    }
   ],
   "source": [
    "sum = 0\n",
    "n=1\n",
    "while n<=10:\n",
    "    sum=sum+n\n",
    "    n=n+1\n",
    "sum"
   ]
  },
  {
   "cell_type": "markdown",
   "id": "bd7de074-c55b-460f-aaf0-9aff4570cb04",
   "metadata": {},
   "source": [
    "product"
   ]
  },
  {
   "cell_type": "code",
   "execution_count": 6,
   "id": "bea1e16e-b547-4a1e-b60c-0503558631b7",
   "metadata": {},
   "outputs": [
    {
     "data": {
      "text/plain": [
       "3628800"
      ]
     },
     "execution_count": 6,
     "metadata": {},
     "output_type": "execute_result"
    }
   ],
   "source": [
    "product=1\n",
    "n=1\n",
    "while n<=10:\n",
    "    product=product*n\n",
    "    n=n+1\n",
    "product"
   ]
  },
  {
   "cell_type": "markdown",
   "id": "312a9016-498b-4c3c-8cdb-694f3f7d8688",
   "metadata": {},
   "source": [
    "using for loop"
   ]
  },
  {
   "cell_type": "markdown",
   "id": "a4530229-290b-41fc-a00c-2812af8a7db4",
   "metadata": {},
   "source": [
    "sum"
   ]
  },
  {
   "cell_type": "code",
   "execution_count": 7,
   "id": "f0bcfa76-dcae-496b-8ede-ec1a63c60cfd",
   "metadata": {},
   "outputs": [
    {
     "data": {
      "text/plain": [
       "55"
      ]
     },
     "execution_count": 7,
     "metadata": {},
     "output_type": "execute_result"
    }
   ],
   "source": [
    "sum = 0\n",
    "for i in range(1,11):\n",
    "    sum=sum+i\n",
    "sum\n",
    "    "
   ]
  },
  {
   "cell_type": "markdown",
   "id": "815fb2a7-97c1-4953-9dd8-4fe34e6f457e",
   "metadata": {},
   "source": [
    "product"
   ]
  },
  {
   "cell_type": "code",
   "execution_count": 9,
   "id": "1bc8db1a-825e-4df9-9cd4-01bfc116acc1",
   "metadata": {},
   "outputs": [
    {
     "data": {
      "text/plain": [
       "3628800"
      ]
     },
     "execution_count": 9,
     "metadata": {},
     "output_type": "execute_result"
    }
   ],
   "source": [
    "product=1\n",
    "for i in range(1,11):\n",
    "    product=product*i\n",
    "product"
   ]
  },
  {
   "cell_type": "markdown",
   "id": "94b17a42-57e8-46bb-bee8-375e4cbb8f3a",
   "metadata": {},
   "source": [
    "Q3. Create a python program to compute the electricity bill for a household.\n",
    "The per-unit charges in rupees are as follows: For the first 100 units, the user will be charged Rs. 4.5 per\n",
    "unit, for the next 100 units, the user will be charged Rs. 6 per unit, and for the next 100 units, the user will\n",
    "be charged Rs. 10 per unit, After 300 units and above the user will be charged Rs. 20 per unit.\n",
    "You are required to take the units of electricity consumed in a month from the user as input.\n",
    "Your program must pass this test case: when the unit of electricity consumed by the user in a month is\n",
    "310, the total electricity bill should be 2250."
   ]
  },
  {
   "cell_type": "code",
   "execution_count": 20,
   "id": "40d1c7a5-3d00-4be4-973f-7eb4275b881f",
   "metadata": {},
   "outputs": [
    {
     "name": "stdin",
     "output_type": "stream",
     "text": [
      "enter your electricity units 310\n"
     ]
    },
    {
     "data": {
      "text/plain": [
       "2250.0"
      ]
     },
     "execution_count": 20,
     "metadata": {},
     "output_type": "execute_result"
    }
   ],
   "source": [
    "n=int(input(\"enter your electricity units\"))\n",
    "sum=0\n",
    "while n>0:\n",
    "    if n>100:\n",
    "        sum=100*4.5\n",
    "        n=n-100\n",
    "    else:\n",
    "        sum=n*4.5\n",
    "        break\n",
    "\n",
    "    if n>100:\n",
    "        sum=sum+100*6\n",
    "        n=n-100\n",
    "    else:\n",
    "        sum=sum+n*6\n",
    "        break\n",
    "\n",
    "    if n>100:\n",
    "        sum=sum+100*10\n",
    "        n=n-100\n",
    "    else:\n",
    "        sum=sum+n*10\n",
    "        break\n",
    "\n",
    "    if n>0:\n",
    "        sum=sum+n*20\n",
    "        break\n",
    "sum\n",
    "\n",
    "\n",
    "\n",
    "    "
   ]
  },
  {
   "cell_type": "markdown",
   "id": "f7d57137-0fe5-47ae-a629-3c7058836253",
   "metadata": {},
   "source": [
    "Q4. Create a list of numbers from 1 to 100. Use for loop and while loop to calculate the cube of each\n",
    "number and if the cube of that number is divisible by 4 or 5 then append that number in a list and print\n",
    "that list."
   ]
  },
  {
   "cell_type": "code",
   "execution_count": 3,
   "id": "fbb162a7-8dc7-4d79-86dd-4638e3c53ab1",
   "metadata": {},
   "outputs": [
    {
     "name": "stdout",
     "output_type": "stream",
     "text": [
      "[1, 2, 3, 4, 5, 6, 7, 8, 9, 10, 11, 12, 13, 14, 15, 16, 17, 18, 19, 20, 21, 22, 23, 24, 25, 26, 27, 28, 29, 30, 31, 32, 33, 34, 35, 36, 37, 38, 39, 40, 41, 42, 43, 44, 45, 46, 47, 48, 49, 50, 51, 52, 53, 54, 55, 56, 57, 58, 59, 60, 61, 62, 63, 64, 65, 66, 67, 68, 69, 70, 71, 72, 73, 74, 75, 76, 77, 78, 79, 80, 81, 82, 83, 84, 85, 86, 87, 88, 89, 90, 91, 92, 93, 94, 95, 96, 97, 98, 99, 100]\n"
     ]
    }
   ],
   "source": [
    "l=list(range(1,101))\n",
    "print(l)"
   ]
  },
  {
   "cell_type": "code",
   "execution_count": 5,
   "id": "ead4bc19-8034-46e9-8fb0-420722c0873a",
   "metadata": {},
   "outputs": [
    {
     "name": "stdout",
     "output_type": "stream",
     "text": [
      "[2, 4, 5, 6, 8, 10, 12, 14, 15, 16, 18, 20, 22, 24, 25, 26, 28, 30, 32, 34, 35, 36, 38, 40, 42, 44, 45, 46, 48, 50, 52, 54, 55, 56, 58, 60, 62, 64, 65, 66, 68, 70, 72, 74, 75, 76, 78, 80, 82, 84, 85, 86, 88, 90, 92, 94, 95, 96, 98, 100]\n"
     ]
    }
   ],
   "source": [
    "l1=[]\n",
    "for i in l:\n",
    "    cube=i**3\n",
    "    if cube%4==0 or cube%5==0:\n",
    "        l1.append(i)\n",
    "print(l1)\n",
    "    \n",
    "    "
   ]
  },
  {
   "cell_type": "markdown",
   "id": "c00f6ead-fba4-48bc-8a9a-c76f921e31c9",
   "metadata": {},
   "source": [
    "Q5. Write a program to filter count vowels in the below-given string.\n",
    "               string = \"I want to become a data scientist\""
   ]
  },
  {
   "cell_type": "code",
   "execution_count": 67,
   "id": "5e81c74b-3e05-4869-b181-3ea1a14cd8e8",
   "metadata": {},
   "outputs": [
    {
     "name": "stdout",
     "output_type": "stream",
     "text": [
      "12\n"
     ]
    }
   ],
   "source": [
    "\n",
    "string = \"I want to become a data scientist\"   \n",
    "vowels = 'aeiouAEIOU'\n",
    "count = 0\n",
    "for char in string:\n",
    "  if char in vowels:   #right code\n",
    "    count += 1\n",
    "print(count)"
   ]
  },
  {
   "cell_type": "code",
   "execution_count": 69,
   "id": "5950fc98-3f9f-438b-a600-9a4f5de37585",
   "metadata": {},
   "outputs": [
    {
     "name": "stdout",
     "output_type": "stream",
     "text": [
      "12\n"
     ]
    }
   ],
   "source": [
    "#or\n",
    "\n",
    "string = \"I want to become a data scientist\"   \n",
    "\n",
    "count = 0\n",
    "for char in string.lower():\n",
    "  if char in 'aeiou':   #right code\n",
    "    count += 1\n",
    "print(count)"
   ]
  },
  {
   "cell_type": "code",
   "execution_count": null,
   "id": "d338f820-8e46-49b6-a898-d62489621749",
   "metadata": {},
   "outputs": [],
   "source": []
  }
 ],
 "metadata": {
  "kernelspec": {
   "display_name": "Python 3 (ipykernel)",
   "language": "python",
   "name": "python3"
  },
  "language_info": {
   "codemirror_mode": {
    "name": "ipython",
    "version": 3
   },
   "file_extension": ".py",
   "mimetype": "text/x-python",
   "name": "python",
   "nbconvert_exporter": "python",
   "pygments_lexer": "ipython3",
   "version": "3.10.8"
  }
 },
 "nbformat": 4,
 "nbformat_minor": 5
}
